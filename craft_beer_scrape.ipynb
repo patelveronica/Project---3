{
 "cells": [
  {
   "cell_type": "code",
   "execution_count": 26,
   "id": "34030792",
   "metadata": {},
   "outputs": [],
   "source": [
    "# Website Craftbeer https://www.craftbeer.com/beer-styles\n",
    "# Install dependencies\n",
    "import pandas as pd\n",
    "import os\n",
    "from bs4 import BeautifulSoup\n",
    "import requests\n",
    "from pprint import pprint\n",
    "import json"
   ]
  },
  {
   "cell_type": "code",
   "execution_count": 27,
   "id": "a7de8f23",
   "metadata": {},
   "outputs": [],
   "source": [
    "# Output File (CSV)\n",
    "output_data_file = \"new_beer_styles.csv\""
   ]
  },
  {
   "cell_type": "code",
   "execution_count": 28,
   "id": "73a3a7cf",
   "metadata": {},
   "outputs": [],
   "source": [
    "url = \"https://www.craftbeer.com/beer-styles\"\n",
    "def response(url):\n",
    "        response = requests.get(url)\n",
    "        return response"
   ]
  },
  {
   "cell_type": "code",
   "execution_count": 29,
   "id": "e8cd3a28",
   "metadata": {},
   "outputs": [],
   "source": [
    "\n",
    "beer_styles_text = response(url).text\n",
    "soup = BeautifulSoup(beer_styles_text, 'lxml')"
   ]
  },
  {
   "cell_type": "code",
   "execution_count": 30,
   "id": "8761bedf",
   "metadata": {},
   "outputs": [],
   "source": [
    "\n",
    "# Get a list of the class='entry-title' elements which has the beer style and url\n",
    "entry_titles = soup.find_all(class_='entry-title')"
   ]
  },
  {
   "cell_type": "code",
   "execution_count": 31,
   "id": "608aa907",
   "metadata": {},
   "outputs": [],
   "source": [
    "# Create a list of the beer styles\n",
    "styles = [t.text for t in entry_titles ]"
   ]
  },
  {
   "cell_type": "code",
   "execution_count": 32,
   "id": "a8177391",
   "metadata": {},
   "outputs": [],
   "source": [
    "# Create a list of links with more information for each style\n",
    "beer_styles_links = []\n",
    "for h in entry_titles:\n",
    "    a = h.find(\"a\")\n",
    "    beer_styles_links.append(a.attrs['href'])"
   ]
  },
  {
   "cell_type": "code",
   "execution_count": 33,
   "id": "d809baa9",
   "metadata": {},
   "outputs": [
    {
     "data": {
      "text/plain": [
       "'https://cdn.craftbeer.com/wp-content/uploads/20180330152439/resource_style-finder.jpg'"
      ]
     },
     "execution_count": 33,
     "metadata": {},
     "output_type": "execute_result"
    }
   ],
   "source": [
    "# Get a list of the class='caption' elements which has the beer style image url\n",
    "images = soup.find_all(class_='featured-image')\n",
    "image_url = []\n",
    "for i in images:\n",
    "    image_url.append(i.attrs['src'])\n",
    "image_url.pop()"
   ]
  },
  {
   "cell_type": "code",
   "execution_count": 34,
   "id": "ee1573bf",
   "metadata": {},
   "outputs": [],
   "source": [
    "df = pd.DataFrame(list(zip(styles,beer_styles_links,image_url)),\n",
    "                 columns = ['beer_style', 'info_link', 'image_link'])"
   ]
  },
  {
   "cell_type": "code",
   "execution_count": 35,
   "id": "c9650d05",
   "metadata": {},
   "outputs": [
    {
     "data": {
      "text/html": [
       "<div>\n",
       "<style scoped>\n",
       "    .dataframe tbody tr th:only-of-type {\n",
       "        vertical-align: middle;\n",
       "    }\n",
       "\n",
       "    .dataframe tbody tr th {\n",
       "        vertical-align: top;\n",
       "    }\n",
       "\n",
       "    .dataframe thead th {\n",
       "        text-align: right;\n",
       "    }\n",
       "</style>\n",
       "<table border=\"1\" class=\"dataframe\">\n",
       "  <thead>\n",
       "    <tr style=\"text-align: right;\">\n",
       "      <th></th>\n",
       "      <th>beer_style</th>\n",
       "      <th>info_link</th>\n",
       "      <th>image_link</th>\n",
       "    </tr>\n",
       "  </thead>\n",
       "  <tbody>\n",
       "    <tr>\n",
       "      <th>0</th>\n",
       "      <td>American Amber Ale</td>\n",
       "      <td>https://www.craftbeer.com/styles/amber-ale</td>\n",
       "      <td>https://www.craftbeer.com/wp-content/uploads/_...</td>\n",
       "    </tr>\n",
       "    <tr>\n",
       "      <th>1</th>\n",
       "      <td>American Amber Lager</td>\n",
       "      <td>https://www.craftbeer.com/styles/american-ambe...</td>\n",
       "      <td>https://www.craftbeer.com/wp-content/uploads/_...</td>\n",
       "    </tr>\n",
       "    <tr>\n",
       "      <th>2</th>\n",
       "      <td>American Barley Wine</td>\n",
       "      <td>https://www.craftbeer.com/styles/american-barl...</td>\n",
       "      <td>https://www.craftbeer.com/wp-content/uploads/_...</td>\n",
       "    </tr>\n",
       "    <tr>\n",
       "      <th>3</th>\n",
       "      <td>American Black Ale</td>\n",
       "      <td>https://www.craftbeer.com/styles/american-blac...</td>\n",
       "      <td>https://www.craftbeer.com/wp-content/uploads/_...</td>\n",
       "    </tr>\n",
       "    <tr>\n",
       "      <th>4</th>\n",
       "      <td>American Brett</td>\n",
       "      <td>https://www.craftbeer.com/styles/american-brett</td>\n",
       "      <td>https://www.craftbeer.com/wp-content/uploads/_...</td>\n",
       "    </tr>\n",
       "  </tbody>\n",
       "</table>\n",
       "</div>"
      ],
      "text/plain": [
       "             beer_style                                          info_link  \\\n",
       "0    American Amber Ale         https://www.craftbeer.com/styles/amber-ale   \n",
       "1  American Amber Lager  https://www.craftbeer.com/styles/american-ambe...   \n",
       "2  American Barley Wine  https://www.craftbeer.com/styles/american-barl...   \n",
       "3    American Black Ale  https://www.craftbeer.com/styles/american-blac...   \n",
       "4        American Brett    https://www.craftbeer.com/styles/american-brett   \n",
       "\n",
       "                                          image_link  \n",
       "0  https://www.craftbeer.com/wp-content/uploads/_...  \n",
       "1  https://www.craftbeer.com/wp-content/uploads/_...  \n",
       "2  https://www.craftbeer.com/wp-content/uploads/_...  \n",
       "3  https://www.craftbeer.com/wp-content/uploads/_...  \n",
       "4  https://www.craftbeer.com/wp-content/uploads/_...  "
      ]
     },
     "execution_count": 35,
     "metadata": {},
     "output_type": "execute_result"
    }
   ],
   "source": [
    "df.head()"
   ]
  },
  {
   "cell_type": "code",
   "execution_count": 36,
   "id": "1deb9db8",
   "metadata": {},
   "outputs": [],
   "source": [
    "# Create a dict of results for use later\n",
    "beer_styles_dict = df.to_dict()"
   ]
  },
  {
   "cell_type": "code",
   "execution_count": 37,
   "id": "5263f3f7",
   "metadata": {},
   "outputs": [],
   "source": [
    "# Create CSV file of raw data and store in Results Directory\n",
    "script_dir = os.path.dirname(\"\")\n",
    "results_dir = os.path.join(script_dir, \"Results/\")\n",
    "if not os.path.isdir(results_dir):\n",
    "    os.makedirs(results_dir)\n",
    "\n",
    "# Create directory to store results    \n",
    "df.to_csv(results_dir + output_data_file)"
   ]
  },
  {
   "cell_type": "code",
   "execution_count": null,
   "id": "2222f52f",
   "metadata": {},
   "outputs": [],
   "source": []
  },
  {
   "cell_type": "code",
   "execution_count": null,
   "id": "c14d890f",
   "metadata": {},
   "outputs": [],
   "source": []
  }
 ],
 "metadata": {
  "kernelspec": {
   "display_name": "Python 3",
   "language": "python",
   "name": "python3"
  },
  "language_info": {
   "codemirror_mode": {
    "name": "ipython",
    "version": 3
   },
   "file_extension": ".py",
   "mimetype": "text/x-python",
   "name": "python",
   "nbconvert_exporter": "python",
   "pygments_lexer": "ipython3",
   "version": "3.8.8"
  }
 },
 "nbformat": 4,
 "nbformat_minor": 5
}
