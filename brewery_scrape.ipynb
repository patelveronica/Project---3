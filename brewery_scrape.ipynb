{
 "cells": [
  {
   "cell_type": "markdown",
   "id": "99d8fdf8",
   "metadata": {},
   "source": [
    "## Scrape Brewery Name and location ##"
   ]
  },
  {
   "cell_type": "code",
   "execution_count": 2,
   "id": "8add7111",
   "metadata": {
    "scrolled": false
   },
   "outputs": [
    {
     "name": "stdout",
     "output_type": "stream",
     "text": [
      "Collecting fake_useragent\n",
      "  Downloading fake-useragent-0.1.11.tar.gz (13 kB)\n",
      "Building wheels for collected packages: fake-useragent\n",
      "  Building wheel for fake-useragent (setup.py): started\n",
      "  Building wheel for fake-useragent (setup.py): finished with status 'done'\n",
      "  Created wheel for fake-useragent: filename=fake_useragent-0.1.11-py3-none-any.whl size=13486 sha256=2b12a573b0f1f8889d469090e1680a35e7efe20adf2ede76bd3dd56944ee715c\n",
      "  Stored in directory: c:\\users\\patel\\appdata\\local\\pip\\cache\\wheels\\a0\\b8\\b7\\8c942b2c5be5158b874a88195116b05ad124bac795f6665e65\n",
      "Successfully built fake-useragent\n",
      "Installing collected packages: fake-useragent\n",
      "Successfully installed fake-useragent-0.1.11\n"
     ]
    }
   ],
   "source": [
    "!pip install fake_useragent"
   ]
  },
  {
   "cell_type": "code",
   "execution_count": 4,
   "id": "a2afefc2",
   "metadata": {},
   "outputs": [
    {
     "name": "stdout",
     "output_type": "stream",
     "text": [
      "Collecting free_proxy\n",
      "  Downloading free_proxy-1.0.3.tar.gz (4.0 kB)\n",
      "Requirement already satisfied: lxml in c:\\users\\patel\\anaconda3\\lib\\site-packages (from free_proxy) (4.6.3)\n",
      "Requirement already satisfied: requests in c:\\users\\patel\\anaconda3\\lib\\site-packages (from free_proxy) (2.25.1)\n",
      "Requirement already satisfied: certifi>=2017.4.17 in c:\\users\\patel\\anaconda3\\lib\\site-packages (from requests->free_proxy) (2020.12.5)\n",
      "Requirement already satisfied: idna<3,>=2.5 in c:\\users\\patel\\anaconda3\\lib\\site-packages (from requests->free_proxy) (2.10)\n",
      "Requirement already satisfied: urllib3<1.27,>=1.21.1 in c:\\users\\patel\\anaconda3\\lib\\site-packages (from requests->free_proxy) (1.26.4)\n",
      "Requirement already satisfied: chardet<5,>=3.0.2 in c:\\users\\patel\\anaconda3\\lib\\site-packages (from requests->free_proxy) (4.0.0)\n",
      "Building wheels for collected packages: free-proxy\n",
      "  Building wheel for free-proxy (setup.py): started\n",
      "  Building wheel for free-proxy (setup.py): finished with status 'done'\n",
      "  Created wheel for free-proxy: filename=free_proxy-1.0.3-py3-none-any.whl size=4238 sha256=744fa3ca08e19ef6d0f66ffb6523a9631b5e39d5e6d36a3f84413aded1a0ae05\n",
      "  Stored in directory: c:\\users\\patel\\appdata\\local\\pip\\cache\\wheels\\e4\\ea\\63\\e9370d81bf8f27a89fa04dd0c3424437809f4a9423f021eabd\n",
      "Successfully built free-proxy\n",
      "Installing collected packages: free-proxy\n",
      "Successfully installed free-proxy-1.0.3\n"
     ]
    }
   ],
   "source": [
    "!pip install free_proxy"
   ]
  },
  {
   "cell_type": "code",
   "execution_count": 30,
   "id": "eebd212d",
   "metadata": {},
   "outputs": [
    {
     "ename": "ModuleNotFoundError",
     "evalue": "No module named 'free_proxy'",
     "output_type": "error",
     "traceback": [
      "\u001b[1;31m---------------------------------------------------------------------------\u001b[0m",
      "\u001b[1;31mModuleNotFoundError\u001b[0m                       Traceback (most recent call last)",
      "\u001b[1;32m<ipython-input-30-4434e8b3519f>\u001b[0m in \u001b[0;36m<module>\u001b[1;34m\u001b[0m\n\u001b[0;32m      7\u001b[0m \u001b[1;32mimport\u001b[0m \u001b[0mjson\u001b[0m\u001b[1;33m\u001b[0m\u001b[1;33m\u001b[0m\u001b[0m\n\u001b[0;32m      8\u001b[0m \u001b[1;32mfrom\u001b[0m \u001b[0mfake_useragent\u001b[0m \u001b[1;32mimport\u001b[0m \u001b[0mUserAgent\u001b[0m\u001b[1;33m\u001b[0m\u001b[1;33m\u001b[0m\u001b[0m\n\u001b[1;32m----> 9\u001b[1;33m \u001b[1;32mfrom\u001b[0m \u001b[0mfree_proxy\u001b[0m \u001b[1;32mimport\u001b[0m \u001b[0mFreeProxy\u001b[0m\u001b[1;33m\u001b[0m\u001b[1;33m\u001b[0m\u001b[0m\n\u001b[0m",
      "\u001b[1;31mModuleNotFoundError\u001b[0m: No module named 'free_proxy'"
     ]
    }
   ],
   "source": [
    "# Install dependencies\n",
    "import pandas as pd\n",
    "import os\n",
    "from bs4 import BeautifulSoup\n",
    "import requests\n",
    "from pprint import pprint\n",
    "import json\n",
    "from fake_useragent import UserAgent\n",
    "from free_proxy import FreeProxy"
   ]
  },
  {
   "cell_type": "code",
   "execution_count": 31,
   "id": "2cd02cb6",
   "metadata": {},
   "outputs": [],
   "source": [
    "# Beeradvocate web page to scrape # https://www.beeradvocate.com/beer/profile/<brewery_id>/?view=beers&show=all\n",
    "base_url = 'https://www.beeradvocate.com/beer/profile/'\n",
    "test_url = 'https://www.beeradvocate.com/beer/profile/3/?view=beers&show=all'\n",
    "def response(url):\n",
    "        response = requests.get(url)\n",
    "        return response"
   ]
  },
  {
   "cell_type": "code",
   "execution_count": 32,
   "id": "4ffb87ce",
   "metadata": {},
   "outputs": [],
   "source": [
    "brewery_text = response(test_url).text\n",
    "soup = BeautifulSoup(brewery_text, 'lxml')"
   ]
  },
  {
   "cell_type": "code",
   "execution_count": 33,
   "id": "f93f9b86",
   "metadata": {},
   "outputs": [
    {
     "name": "stdout",
     "output_type": "stream",
     "text": [
      "Abita Brewing Co.\n"
     ]
    }
   ],
   "source": [
    "\n",
    "# Get brewery name\n",
    "brewery_name = soup.find('h1').text\n",
    "print(brewery_name)"
   ]
  },
  {
   "cell_type": "code",
   "execution_count": 34,
   "id": "07c7e56a",
   "metadata": {},
   "outputs": [
    {
     "name": "stdout",
     "output_type": "stream",
     "text": [
      "('Brewery, Bar21084 LA-36Covington,Louisiana, 70433United States(800) 737-2311 '\n",
      " '|mapabita.comNotes:')\n"
     ]
    }
   ],
   "source": [
    "brewery_location_text = soup.find(id=\"info_box\").get_text(strip=True)\n",
    "pprint(brewery_location_text)"
   ]
  },
  {
   "cell_type": "code",
   "execution_count": 35,
   "id": "e15dd4c5",
   "metadata": {},
   "outputs": [
    {
     "name": "stdout",
     "output_type": "stream",
     "text": [
      "'Average:3.54Beers:74Reviews:6,700Ratings:22,286'\n"
     ]
    }
   ],
   "source": [
    "\n",
    "brewery_facts_text= soup.find(id=\"item_stats\").get_text(strip=True)\n",
    "pprint(brewery_facts_text)"
   ]
  },
  {
   "cell_type": "code",
   "execution_count": 36,
   "id": "8b33c2ed",
   "metadata": {},
   "outputs": [],
   "source": [
    "\n",
    "dfs = pd.read_html(brewery_text)[2]"
   ]
  },
  {
   "cell_type": "code",
   "execution_count": 37,
   "id": "bf887322",
   "metadata": {},
   "outputs": [
    {
     "name": "stdout",
     "output_type": "stream",
     "text": [
      "                                     Name                       Style  ABV  \\\n",
      "0                      2003 Symposium Ale            Bitter - English  0.0   \n",
      "1                20th Anniversary Pilsner  Pilsner - Bohemian / Czech  5.0   \n",
      "2      25th Anniversary Vanilla Doubledog       Strong Ale - American  7.0   \n",
      "3                    30th Anniversary Ale               IPA - Belgian  7.0   \n",
      "4                                 30° 90°            Lager - American  4.5   \n",
      "..                                    ...                         ...  ...   \n",
      "181  Watermelon Seersucker Summer Pilsner        Fruit and Field Beer  4.8   \n",
      "182                                 Wheat             Lager - Adjunct  4.2   \n",
      "183                       White Linen Wit        Wheat Beer - Witbier  5.2   \n",
      "184                      Wild Western IPA              IPA - American  7.0   \n",
      "185                      Wrought Iron IPA              IPA - American  6.9   \n",
      "\n",
      "     Ratings   Avg Yours  \n",
      "0          0  0.00     -  \n",
      "1         92  4.04     -  \n",
      "2        550  3.68     -  \n",
      "3         21  3.82     -  \n",
      "4         57  3.76     -  \n",
      "..       ...   ...   ...  \n",
      "181        1  3.70     -  \n",
      "182      140  3.35     -  \n",
      "183        3  3.84     -  \n",
      "184        1  4.00     -  \n",
      "185      878  3.86     -  \n",
      "\n",
      "[186 rows x 6 columns]\n"
     ]
    }
   ],
   "source": [
    "pprint(dfs)"
   ]
  },
  {
   "cell_type": "code",
   "execution_count": 38,
   "id": "4a45a52c",
   "metadata": {},
   "outputs": [],
   "source": [
    "beer_df = pd.DataFrame(dfs)"
   ]
  },
  {
   "cell_type": "code",
   "execution_count": 39,
   "id": "d4f537e3",
   "metadata": {},
   "outputs": [
    {
     "data": {
      "text/html": [
       "<div>\n",
       "<style scoped>\n",
       "    .dataframe tbody tr th:only-of-type {\n",
       "        vertical-align: middle;\n",
       "    }\n",
       "\n",
       "    .dataframe tbody tr th {\n",
       "        vertical-align: top;\n",
       "    }\n",
       "\n",
       "    .dataframe thead th {\n",
       "        text-align: right;\n",
       "    }\n",
       "</style>\n",
       "<table border=\"1\" class=\"dataframe\">\n",
       "  <thead>\n",
       "    <tr style=\"text-align: right;\">\n",
       "      <th></th>\n",
       "      <th>Name</th>\n",
       "      <th>Style</th>\n",
       "      <th>ABV</th>\n",
       "      <th>Ratings</th>\n",
       "      <th>Avg</th>\n",
       "      <th>Yours</th>\n",
       "    </tr>\n",
       "  </thead>\n",
       "  <tbody>\n",
       "    <tr>\n",
       "      <th>0</th>\n",
       "      <td>2003 Symposium Ale</td>\n",
       "      <td>Bitter - English</td>\n",
       "      <td>0.0</td>\n",
       "      <td>0</td>\n",
       "      <td>0.00</td>\n",
       "      <td>-</td>\n",
       "    </tr>\n",
       "    <tr>\n",
       "      <th>1</th>\n",
       "      <td>20th Anniversary Pilsner</td>\n",
       "      <td>Pilsner - Bohemian / Czech</td>\n",
       "      <td>5.0</td>\n",
       "      <td>92</td>\n",
       "      <td>4.04</td>\n",
       "      <td>-</td>\n",
       "    </tr>\n",
       "    <tr>\n",
       "      <th>2</th>\n",
       "      <td>25th Anniversary Vanilla Doubledog</td>\n",
       "      <td>Strong Ale - American</td>\n",
       "      <td>7.0</td>\n",
       "      <td>550</td>\n",
       "      <td>3.68</td>\n",
       "      <td>-</td>\n",
       "    </tr>\n",
       "    <tr>\n",
       "      <th>3</th>\n",
       "      <td>30th Anniversary Ale</td>\n",
       "      <td>IPA - Belgian</td>\n",
       "      <td>7.0</td>\n",
       "      <td>21</td>\n",
       "      <td>3.82</td>\n",
       "      <td>-</td>\n",
       "    </tr>\n",
       "    <tr>\n",
       "      <th>4</th>\n",
       "      <td>30° 90°</td>\n",
       "      <td>Lager - American</td>\n",
       "      <td>4.5</td>\n",
       "      <td>57</td>\n",
       "      <td>3.76</td>\n",
       "      <td>-</td>\n",
       "    </tr>\n",
       "  </tbody>\n",
       "</table>\n",
       "</div>"
      ],
      "text/plain": [
       "                                 Name                       Style  ABV  \\\n",
       "0                  2003 Symposium Ale            Bitter - English  0.0   \n",
       "1            20th Anniversary Pilsner  Pilsner - Bohemian / Czech  5.0   \n",
       "2  25th Anniversary Vanilla Doubledog       Strong Ale - American  7.0   \n",
       "3                30th Anniversary Ale               IPA - Belgian  7.0   \n",
       "4                             30° 90°            Lager - American  4.5   \n",
       "\n",
       "   Ratings   Avg Yours  \n",
       "0        0  0.00     -  \n",
       "1       92  4.04     -  \n",
       "2      550  3.68     -  \n",
       "3       21  3.82     -  \n",
       "4       57  3.76     -  "
      ]
     },
     "execution_count": 39,
     "metadata": {},
     "output_type": "execute_result"
    }
   ],
   "source": [
    "beer_df.head()"
   ]
  },
  {
   "cell_type": "code",
   "execution_count": 40,
   "id": "a6ac2bde",
   "metadata": {},
   "outputs": [
    {
     "ename": "NameError",
     "evalue": "name 'FreeProxy' is not defined",
     "output_type": "error",
     "traceback": [
      "\u001b[1;31m---------------------------------------------------------------------------\u001b[0m",
      "\u001b[1;31mNameError\u001b[0m                                 Traceback (most recent call last)",
      "\u001b[1;32m<ipython-input-40-79392c8d5b6c>\u001b[0m in \u001b[0;36m<module>\u001b[1;34m\u001b[0m\n\u001b[1;32m----> 1\u001b[1;33m \u001b[0mproxy\u001b[0m \u001b[1;33m=\u001b[0m \u001b[0mFreeProxy\u001b[0m\u001b[1;33m(\u001b[0m\u001b[1;33m)\u001b[0m\u001b[1;33m.\u001b[0m\u001b[0mget\u001b[0m\u001b[1;33m(\u001b[0m\u001b[1;33m)\u001b[0m\u001b[1;33m\u001b[0m\u001b[1;33m\u001b[0m\u001b[0m\n\u001b[0m\u001b[0;32m      2\u001b[0m \u001b[0mprint\u001b[0m\u001b[1;33m(\u001b[0m\u001b[0mproxy\u001b[0m\u001b[1;33m)\u001b[0m\u001b[1;33m\u001b[0m\u001b[1;33m\u001b[0m\u001b[0m\n",
      "\u001b[1;31mNameError\u001b[0m: name 'FreeProxy' is not defined"
     ]
    }
   ],
   "source": [
    "proxy = FreeProxy().get() \n",
    "print(proxy)"
   ]
  },
  {
   "cell_type": "code",
   "execution_count": 41,
   "id": "0fb9d158",
   "metadata": {},
   "outputs": [
    {
     "name": "stdout",
     "output_type": "stream",
     "text": [
      "404\n"
     ]
    }
   ],
   "source": [
    "# Loop though and get all breweries\n",
    "\n",
    "ua = UserAgent()\n",
    "all_breweries = []\n",
    "brew_id = 1\n",
    "while True:\n",
    "#     proxy = FreeProxy(rand=True).get() **proxies={\"http\": proxy, \"https\": proxy}\n",
    "    headers = {'User-Agent':str(ua.random)}\n",
    "    r = requests.get(base_url+str(brew_id)+'/?view=beers&show=all', headers=headers)\n",
    "    brewery_text = r.text\n",
    "    soup = BeautifulSoup(brewery_text, 'lxml')\n",
    "    brewery_name = soup.find('h1').text\n",
    "    if r.status_code == 200:\n",
    "        all_breweries.append(brewery_name)\n",
    "        brew_id += 1\n",
    "    else:\n",
    "        print(r.status_code)\n",
    "        break"
   ]
  },
  {
   "cell_type": "code",
   "execution_count": 42,
   "id": "ca8b3512",
   "metadata": {},
   "outputs": [
    {
     "name": "stdout",
     "output_type": "stream",
     "text": [
      "['Plzeňský Prazdroj',\n",
      " 'Yellow Rose Brewing Company',\n",
      " 'Abita Brewing Co.',\n",
      " 'Allagash Brewing Company',\n",
      " \"Yakima Brewing Co. / Bert Grant's Ales\",\n",
      " 'Brouwerij Slaghmuylder']\n"
     ]
    }
   ],
   "source": [
    "pprint(all_breweries)"
   ]
  },
  {
   "cell_type": "code",
   "execution_count": null,
   "id": "7acd32a3",
   "metadata": {},
   "outputs": [],
   "source": []
  }
 ],
 "metadata": {
  "kernelspec": {
   "display_name": "Python 3",
   "language": "python",
   "name": "python3"
  },
  "language_info": {
   "codemirror_mode": {
    "name": "ipython",
    "version": 3
   },
   "file_extension": ".py",
   "mimetype": "text/x-python",
   "name": "python",
   "nbconvert_exporter": "python",
   "pygments_lexer": "ipython3",
   "version": "3.8.8"
  }
 },
 "nbformat": 4,
 "nbformat_minor": 5
}
